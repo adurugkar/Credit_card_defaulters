{
 "cells": [
  {
   "cell_type": "code",
   "execution_count": 1,
   "id": "3ce82ce6",
   "metadata": {},
   "outputs": [],
   "source": [
    "from random import randint\n",
    "para={'XGBClassifier':{'learning_rate':[0.1,0.01,0.001],\n",
    "                      'n_estimators':[600,800,1000],\n",
    "                      'max_depth':[4,5,6],\n",
    "                      'min_child_weight':[4,5,6],\n",
    "                      'gamma':[i/10.0 for i in range(0,4)]},\n",
    "      'Random Forest Classifier':{'n_estimators':[600,800,1000],\n",
    "                                 'max_depth':[4,5,6],\n",
    "                                 'min_samples_split':[],\n",
    "                                 'max_leaf_nodes':[],\n",
    "                                 'max_features' : ['sqrt', 'log2']},\n",
    "      'Decision Tree':{'criterion':['gini'],\n",
    "                       'splitter':[2,4,6],\n",
    "                       'max_depth':[],\n",
    "                       'min_samples_leaf':[],\n",
    "                       'max_features' :['sqrt', 'log2']},\n",
    "      'CatboostClassifier':{'iterations':[],\n",
    "                           'learning_rate':[],\n",
    "                           'rsm':[],\n",
    "                           'loss_function':[],\n",
    "                           'max_depth':randint(3, 10)},\n",
    "      'LogisticRegression':{'max_iter':[],\n",
    "                           'solver':['lbfgs','sag','saga','liblinear'],\n",
    "                           'penalty':['None','l2'],\n",
    "                           'c_values':[100,10,1,0.1,0.01]                           },\n",
    "      'KNeighborsClassifier':{'n_neighbors' : range(1, 21, 2),\n",
    "                              'weights' : ['uniform', 'distance'],\n",
    "                              'metric' : ['euclidean', 'manhattan', 'minkowski']},\n",
    "      'SVMClassifier':{'kernel' : ['poly', 'rbf', 'sigmoid'],\n",
    "                      'C' : [50, 10, 1.0, 0.1, 0.01],\n",
    "                      'gamma' :['scale']},\n",
    "      'GradientBoostingClassifier':{'n_estimators' : [10, 100, 1000],\n",
    "                                    'learning_rate' : [0.001, 0.01, 0.1],\n",
    "                                    'subsample' : [0.5, 0.7, 1.0],\n",
    "                                    'max_depth' : [3, 7, 9]},\n",
    "      'AdaBoost Classifier':{'n_estimators': [2, 3, 4],\n",
    "                             'learning_rate': [(0.97 + x / 100) for x in range(0, 4)],\n",
    "                             'algorithm': ['SAMME', 'SAMME.R']}\n",
    "     }"
   ]
  },
  {
   "cell_type": "code",
   "execution_count": 2,
   "id": "a457a594",
   "metadata": {},
   "outputs": [
    {
     "data": {
      "text/plain": [
       "{'n_estimators': [600, 800, 1000],\n",
       " 'max_depth': [4, 5, 6],\n",
       " 'min_samples_split': [],\n",
       " 'max_leaf_nodes': [],\n",
       " 'max_features': ['sqrt', 'log2']}"
      ]
     },
     "execution_count": 2,
     "metadata": {},
     "output_type": "execute_result"
    }
   ],
   "source": [
    "list(para.values())[1]"
   ]
  },
  {
   "cell_type": "code",
   "execution_count": 3,
   "id": "397ab2cd",
   "metadata": {},
   "outputs": [
    {
     "data": {
      "text/plain": [
       "'Random Forest Classifier'"
      ]
     },
     "execution_count": 3,
     "metadata": {},
     "output_type": "execute_result"
    }
   ],
   "source": [
    "list(para.keys())[1]"
   ]
  },
  {
   "cell_type": "code",
   "execution_count": 4,
   "id": "ff9af5c3",
   "metadata": {},
   "outputs": [
    {
     "data": {
      "text/plain": [
       "array([0.  , 0.05, 0.1 , 0.15, 0.2 ])"
      ]
     },
     "execution_count": 4,
     "metadata": {},
     "output_type": "execute_result"
    }
   ],
   "source": [
    "import numpy as np\n",
    "np.linspace(0,0.2,5)"
   ]
  },
  {
   "cell_type": "code",
   "execution_count": 5,
   "id": "d69f87fb",
   "metadata": {},
   "outputs": [
    {
     "data": {
      "text/plain": [
       "{'n_estimators': [600, 800, 1000],\n",
       " 'max_depth': [4, 5, 6],\n",
       " 'min_samples_split': [],\n",
       " 'max_leaf_nodes': [],\n",
       " 'max_features': ['sqrt', 'log2']}"
      ]
     },
     "execution_count": 5,
     "metadata": {},
     "output_type": "execute_result"
    }
   ],
   "source": [
    "para['Random Forest Classifier']"
   ]
  },
  {
   "cell_type": "code",
   "execution_count": null,
   "id": "b49608a3",
   "metadata": {},
   "outputs": [],
   "source": []
  }
 ],
 "metadata": {
  "kernelspec": {
   "display_name": "Python 3 (ipykernel)",
   "language": "python",
   "name": "python3"
  },
  "language_info": {
   "codemirror_mode": {
    "name": "ipython",
    "version": 3
   },
   "file_extension": ".py",
   "mimetype": "text/x-python",
   "name": "python",
   "nbconvert_exporter": "python",
   "pygments_lexer": "ipython3",
   "version": "3.9.13"
  }
 },
 "nbformat": 4,
 "nbformat_minor": 5
}
