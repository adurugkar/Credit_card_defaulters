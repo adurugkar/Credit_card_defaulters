{
 "cells": [
  {
   "cell_type": "markdown",
   "id": "c676291e",
   "metadata": {},
   "source": [
    "### Basic Import"
   ]
  },
  {
   "cell_type": "code",
   "execution_count": null,
   "id": "3bfde441",
   "metadata": {},
   "outputs": [],
   "source": [
    "import pandas as pd\n",
    "import numpy as np\n",
    "import os\n",
    "import sys\n",
    "import seaborn as sns\n",
    "import matplotlib.pyplot as plt\n",
    "%matplotlib inline\n",
    "import warnings\n",
    "warnings.filterwarnings('ignore')"
   ]
  },
  {
   "cell_type": "markdown",
   "id": "db98b791",
   "metadata": {},
   "source": [
    "### Modelling"
   ]
  },
  {
   "cell_type": "code",
   "execution_count": null,
   "id": "d81ab6fa",
   "metadata": {},
   "outputs": [],
   "source": [
    "from sklearn.model_selection import train_test_split\n",
    "from sklearn.tree import DecisionTreeClassifier\n",
    "from sklearn.linear_model import LogisticRegression\n",
    "from sklearn.metrics import accuracy_score,recall_score,precision_score, f1_score,roc_auc_score,confusion_matrix,roc_curve, auc\n",
    "from sklearn.svm import SVC\n",
    "from sklearn.ensemble import RandomForestClassifier, AdaBoostClassifier\n",
    "from sklearn.neighbors import KNeighborsClassifier\n",
    "from xgboost import XGBClassifier"
   ]
  },
  {
   "cell_type": "markdown",
   "id": "3a49065f",
   "metadata": {},
   "source": [
    "## Import the csv Data as pandas as DataFrame"
   ]
  },
  {
   "cell_type": "code",
   "execution_count": null,
   "id": "eefd41de",
   "metadata": {},
   "outputs": [],
   "source": [
    "df = pd.read_csv('data\\credit_default.csv')"
   ]
  },
  {
   "cell_type": "markdown",
   "id": "62195b94",
   "metadata": {},
   "source": [
    "## show top 5 records"
   ]
  },
  {
   "cell_type": "code",
   "execution_count": null,
   "id": "6d6e9769",
   "metadata": {},
   "outputs": [],
   "source": [
    "df.head()"
   ]
  },
  {
   "cell_type": "markdown",
   "id": "f75ac5bc",
   "metadata": {},
   "source": [
    "## Preparing x and y variables"
   ]
  },
  {
   "cell_type": "code",
   "execution_count": null,
   "id": "4c9cdc70",
   "metadata": {},
   "outputs": [],
   "source": [
    "x = df.iloc[:,:-1]\n",
    "y = df.iloc[:,-1]"
   ]
  },
  {
   "cell_type": "code",
   "execution_count": null,
   "id": "1576986c",
   "metadata": {},
   "outputs": [],
   "source": [
    "# define numerical & categorical columns\n",
    "categorical_feature = [i for i in x.columns if df[i].nunique()<=11]\n",
    "numeric_feature = [i for i in x.columns if i not in categorical_feature]"
   ]
  },
  {
   "cell_type": "code",
   "execution_count": null,
   "id": "f3a4ca5f",
   "metadata": {},
   "outputs": [],
   "source": [
    "from sklearn.preprocessing import StandardScaler\n",
    "from sklearn.compose import ColumnTransformer\n",
    "from sklearn.pipeline import Pipeline\n",
    "\n",
    "categorical_transformer = StandardScaler(with_mean=False)\n",
    "\n",
    "numerical_pipline = Pipeline(steps=[\n",
    "    (\"scaler\",StandardScaler())\n",
    "])\n",
    "categorical_pipline = Pipeline(steps=[\n",
    "    (\"scaler\",StandardScaler(with_mean=False))\n",
    "])\n",
    "\n",
    "preprocessor = ColumnTransformer(\n",
    "    [\n",
    "        (\"numerical\",numerical_pipline,numeric_feature),\n",
    "        (\"categorical\",categorical_pipline,categorical_feature)\n",
    "    ]\n",
    ")"
   ]
  },
  {
   "cell_type": "code",
   "execution_count": null,
   "id": "3af97ce9",
   "metadata": {},
   "outputs": [],
   "source": [
    "data = pd.merge(data1, data2, left_index=True, rihjt_index= True)"
   ]
  },
  {
   "cell_type": "code",
   "execution_count": null,
   "id": "3f0123eb",
   "metadata": {},
   "outputs": [],
   "source": [
    "df.default.value_counts()"
   ]
  },
  {
   "cell_type": "code",
   "execution_count": null,
   "id": "2d0e8349",
   "metadata": {},
   "outputs": [],
   "source": [
    "from imblearn.over_sampling import SMOTE\n",
    "smote = SMOTE(sampling_strategy='minority')\n",
    "x_sm,y_sm = smote.fit_resample(x,y)\n",
    "y_sm.value_counts()"
   ]
  },
  {
   "cell_type": "code",
   "execution_count": null,
   "id": "8311d96a",
   "metadata": {},
   "outputs": [],
   "source": [
    "# seprate dataset into train and test\n",
    "x_train,x_test,y_train,y_test = train_test_split(x_sm,y_sm,test_size=.25,stratify=y_sm)"
   ]
  },
  {
   "cell_type": "markdown",
   "id": "27fdd3f9",
   "metadata": {},
   "source": [
    "### Create an Evaluate Function to give all metrics after Training"
   ]
  },
  {
   "cell_type": "code",
   "execution_count": null,
   "id": "61a09621",
   "metadata": {},
   "outputs": [],
   "source": [
    "from sklearn.metrics import confusion_matrix, classification_report, roc_auc_score\n",
    "def evalueate_model (y_pred, y_test):\n",
    "    true_value = np.round(y_pred)\n",
    "    print('Classification_Report\\n',classification_report(y_test,y_pred))"
   ]
  },
  {
   "cell_type": "code",
   "execution_count": null,
   "id": "1fe729e2",
   "metadata": {},
   "outputs": [],
   "source": [
    "# input_feature_train_arr = preprocessor.fit_transform(x_train)"
   ]
  },
  {
   "cell_type": "code",
   "execution_count": null,
   "id": "5764b8ef",
   "metadata": {},
   "outputs": [],
   "source": [
    "params={\n",
    "    'XGBClassifier':{\n",
    "        'learning_rate':[0.1,0.01,0.001],\n",
    "#         'n_estimators':[600,800,1000],\n",
    "#         'max_depth':[4,5,6],\n",
    "#         'min_child_weight':[4,5,6],\n",
    "#         'gamma':[i/10.0 for i in range(0,4)]\n",
    "    },\n",
    "    \n",
    "    'Random Forest Classifier':{\n",
    "        'n_estimators':[600,800,1000],\n",
    "#         'max_depth':[4,5,6],\n",
    "#         'min_samples_split':[2,4,5],\n",
    "#         'max_features' = ['sqrt', 'log2']\n",
    "#         'criterion':['gini','entropy']\n",
    "    },\n",
    "      \n",
    "    'Decision Tree':{\n",
    "        'criterion':['gini'],\n",
    "        'splitter':[2,4,6],\n",
    "#         'max_depth':[2,3,4],\n",
    "#         'min_samples_leaf':[4,6,3],\n",
    "#         'max_features':[4,5,7,],\n",
    "#         'criterion':['gini','entropy']\n",
    "    },\n",
    "    \n",
    "# #     'CatboostClassifier':{\n",
    "# #         'iterations':[],\n",
    "# #         'learning_rate':[],\n",
    "# #         'rsm':[],\n",
    "# #         'loss_function':[]},\n",
    "    \n",
    "    'LogisticRegression':{\n",
    "        'max_iter':[400,300,500],\n",
    "#         'solver':['lbfgs','sag','saga','liblinear'],\n",
    "#         'penalty':['None','l2','l1'],\n",
    "#         'c_values':[100,10,1,0.1,0.01]\n",
    "    },\n",
    "    \n",
    "    'KNeighborsClassifier':{\n",
    "        'n_neighbors' : range(1, 21, 2),\n",
    "#         'weights' = ['uniform', 'distance'],\n",
    "#         'metric' = ['euclidean', 'manhattan', 'minkowski']\n",
    "    },\n",
    "    \n",
    "# #     'SVMClassifier':{\n",
    "# #         'kernel' = ['poly', 'rbf', 'sigmoid'],\n",
    "# #         'C' = [50, 10, 1.0, 0.1, 0.01],\n",
    "# #         'gamma' = ['scale']},\n",
    "    \n",
    "    'GradientBoostingClassifier':{\n",
    "        'n_estimators' : [10, 100, 1000],\n",
    "#         'learning_rate' = [0.001, 0.01, 0.1],\n",
    "#         'subsample' = [0.5, 0.7, 1.0],\n",
    "#         'max_depth' = [3, 7, 9]\n",
    "    },\n",
    "    \n",
    "    'AdaBoost Classifier':{\n",
    "        'n_estimators': [2, 3, 4],\n",
    "#         'learning_rate': [(0.97 + x / 100) for x in range(0, 4)],\n",
    "#         'algorithm': ['SAMME', 'SAMME.R']\n",
    "    }\n",
    "     }"
   ]
  },
  {
   "cell_type": "code",
   "execution_count": null,
   "id": "8331757e",
   "metadata": {},
   "outputs": [],
   "source": [
    "def evaluate_models(x_train,y_train,x_test,y_test,models):\n",
    "    try:\n",
    "        report = {}\n",
    "        for i in range(len(list(models))):\n",
    "            model = list(models.values())[i]\n",
    "\n",
    "            # para = params[list(models.keys())[i]]\n",
    "\n",
    "            # gs = GridSearchCV(model, para, cv=3)\n",
    "            # gs.fit(x_train,y_train)\n",
    "            \n",
    "\n",
    "            # model.set_params(**gs.best_params_)\n",
    "            model.fit(x_train,y_train)\n",
    "\n",
    "            y_train_pred = model.predict(x_train)\n",
    "\n",
    "            y_test_pred = model.predict(x_test)\n",
    "\n",
    "            train_model_score = roc_auc_score(y_train,y_train_pred)\n",
    "\n",
    "            test_model_score = roc_auc_score(y_test,y_test_pred)\n",
    "\n",
    "            report[list(models.keys())[i]] = test_model_score\n",
    "\n",
    "        return report\n",
    "    except Exception as e:\n",
    "        raise CustomException(e,sys)\n",
    "    "
   ]
  },
  {
   "cell_type": "code",
   "execution_count": null,
   "id": "65021b29",
   "metadata": {},
   "outputs": [],
   "source": [
    "t =evaluate_models(x_train,y_train,x_test,y_test,models)"
   ]
  },
  {
   "cell_type": "code",
   "execution_count": null,
   "id": "91f12a8a",
   "metadata": {},
   "outputs": [],
   "source": [
    "t"
   ]
  },
  {
   "cell_type": "code",
   "execution_count": null,
   "id": "00ea9eda",
   "metadata": {},
   "outputs": [],
   "source": [
    "models = {\n",
    "        'LogisticRegression':LogisticRegression(),\n",
    "         'Decision Tree': DecisionTreeClassifier(),\n",
    "         'KNeighborsClassifier':KNeighborsClassifier(),\n",
    "         'XGBClassifier':XGBClassifier(),\n",
    "         'AdaBoost Classifier':AdaBoostClassifier(),\n",
    "         'Random Forest Classifier': RandomForestClassifier()\n",
    "}\n",
    "model_list = []\n",
    "roc_auc_scr_list=[]\n",
    "for i in range(len(list(models))):\n",
    "    model = list(models.values())[i]\n",
    "    model.fit(x_train,y_train) # train model\n",
    "    \n",
    "    # make predictions\n",
    "    y_train_pred = model.predict(x_train)\n",
    "    y_test_pred = model.predict(x_test)\n",
    "\n",
    "    #Evaluate Train and test dataset\n",
    "    model_train_roc_auc_value = evalueate_model(y_train,y_train_pred)\n",
    "    train_roc_auc_cur_scr = roc_auc_score(y_train,y_train_pred)\n",
    "    \n",
    "    model_test_roc_auc_value = evalueate_model(y_test_pred,y_test)\n",
    "    test_roc_auc_cur_scr = roc_auc_score(y_test,y_test_pred)\n",
    "    \n",
    "    print(list(models.keys())[i])\n",
    "    model_list.append(list(models.keys())[i])\n",
    "    \n",
    "    print('Model performance for Training set')\n",
    "    print(\"- auc_roc_socre : {}\".format(train_roc_auc_cur_scr))\n",
    "\n",
    "    print('----------------------------------')\n",
    "    \n",
    "    print('Model performance for Test set')\n",
    "    print(\"- auc_roc_sore : {} \".format(test_roc_auc_cur_scr))\n",
    "    roc_auc_scr_list.append(test_roc_auc_cur_scr)\n",
    "    \n",
    "    print('='*35)\n",
    "    print('\\n')\n"
   ]
  },
  {
   "cell_type": "markdown",
   "id": "3a72b7ed",
   "metadata": {},
   "source": [
    "by seeing Roc_auc_socre we can say that \"XGBClassifier \" have good training and testing score "
   ]
  },
  {
   "cell_type": "code",
   "execution_count": null,
   "id": "eb088eb5",
   "metadata": {},
   "outputs": [],
   "source": [
    "pd.DataFrame(list(zip(model_list, roc_auc_scr_list)), columns=['Model Name', 'Roc_auc_score']).sort_values(by=['Roc_auc_score'],ascending=False)"
   ]
  },
  {
   "cell_type": "code",
   "execution_count": null,
   "id": "1ceb626b",
   "metadata": {},
   "outputs": [],
   "source": []
  },
  {
   "cell_type": "code",
   "execution_count": null,
   "id": "8bc1ed28",
   "metadata": {},
   "outputs": [],
   "source": []
  },
  {
   "cell_type": "code",
   "execution_count": null,
   "id": "b615ea61",
   "metadata": {},
   "outputs": [],
   "source": []
  },
  {
   "cell_type": "code",
   "execution_count": null,
   "id": "11561fcb",
   "metadata": {},
   "outputs": [],
   "source": []
  },
  {
   "cell_type": "code",
   "execution_count": null,
   "id": "ef635e64",
   "metadata": {},
   "outputs": [],
   "source": [
    "# from imblearn.under_sampling import RandomUnderSampler\n",
    "# rus = RandomUnderSampler(random_state = 42)\n",
    "# x= data.drop(['default.payment.next.month'],axis=1)\n",
    "# y = data['default.payment.next.month']\n",
    "# X_resampled, y_resampled = rus.fit_resample(x,y)\n",
    "# y_resampled.value_counts()\n"
   ]
  },
  {
   "cell_type": "code",
   "execution_count": null,
   "id": "a7811039",
   "metadata": {},
   "outputs": [],
   "source": [
    "dic  = {}\n",
    "lst = []\n",
    "for i in range(1,8):\n",
    "    lst.append(i)\n",
    "dic['valu']=lst"
   ]
  },
  {
   "cell_type": "code",
   "execution_count": null,
   "id": "9a9d92b0",
   "metadata": {},
   "outputs": [],
   "source": [
    "dic"
   ]
  },
  {
   "cell_type": "code",
   "execution_count": null,
   "id": "5e0bb6e1",
   "metadata": {},
   "outputs": [],
   "source": []
  },
  {
   "cell_type": "code",
   "execution_count": null,
   "id": "dc0c95f6",
   "metadata": {},
   "outputs": [],
   "source": []
  },
  {
   "cell_type": "code",
   "execution_count": null,
   "id": "24e27fdb",
   "metadata": {},
   "outputs": [],
   "source": []
  }
 ],
 "metadata": {
  "kernelspec": {
   "display_name": "Python 3 (ipykernel)",
   "language": "python",
   "name": "python3"
  },
  "language_info": {
   "codemirror_mode": {
    "name": "ipython",
    "version": 3
   },
   "file_extension": ".py",
   "mimetype": "text/x-python",
   "name": "python",
   "nbconvert_exporter": "python",
   "pygments_lexer": "ipython3",
   "version": "3.9.13"
  }
 },
 "nbformat": 4,
 "nbformat_minor": 5
}
